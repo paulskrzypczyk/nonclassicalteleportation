{
 "cells": [
  {
   "cell_type": "markdown",
   "metadata": {},
   "source": [
    "# Quantifying non-classical teleportation\n",
    "## Ivan Supic, Paul Skrzypczyk and Daniel Cavalcanti\n",
    "### Jupyter notebook to accompany arXiv:xxxx.xxxx"
   ]
  },
  {
   "cell_type": "markdown",
   "metadata": {},
   "source": [
    "#### Introduction\n",
    "\n",
    "In this notebook we reproduce all of the figures that appear in the above paper. \n",
    "\n",
    "To run this notebook you will need:\n",
    "\n",
    "- Matlab with the [API for Python](https://www.mathworks.com/help/matlab/matlab-engine-for-python.html) installed.\n",
    "- [CVX](http://cvxr.com/) Software for Disciplined Convex Programming \n",
    "- [QETlab](http://www.qetlab.com/Main_Page) a MATLAB toolbook for quantum entanglement.\n",
    "- The codes provided in this the github repository"
   ]
  },
  {
   "cell_type": "code",
   "execution_count": 142,
   "metadata": {},
   "outputs": [
    {
     "name": "stdout",
     "output_type": "stream",
     "text": [
      "Created file '/home/phyps/git/nonclassicalteleportation/printpdf.m'.\n"
     ]
    }
   ],
   "source": [
    "%%file printpdf.m\n",
    "\n",
    "function printpdf(h,outfilename)\n",
    "\n",
    "set(h, 'PaperUnits','centimeters');\n",
    "set(h, 'Units','centimeters');\n",
    "pos=get(h,'Position');\n",
    "set(h, 'PaperSize', [pos(3) pos(4)]);\n",
    "set(h, 'PaperPositionMode', 'manual');\n",
    "set(h, 'PaperPosition',[0 0 pos(3) pos(4)]);\n",
    "print('-dpdf',outfilename);"
   ]
  },
  {
   "cell_type": "markdown",
   "metadata": {},
   "source": [
    "## Figure 2"
   ]
  },
  {
   "cell_type": "markdown",
   "metadata": {},
   "source": [
    "Here we will look at teleportation using the one-parameter family of states \n",
    "\n",
    "$$ \\rho = p\\left|\\Phi^+\\right\\rangle \\left\\langle \\Phi^+ \\right| + (1-p)\\left| 01 \\right\\rangle \\left\\langle 01 \\right| $$\n",
    "using a full Bell-State-Measurement (BSM), and with input states $\\omega_x$ the 6 eigenstates of the Pauli spin operators $X$, $Y$ and $Z$. "
   ]
  },
  {
   "cell_type": "code",
   "execution_count": 98,
   "metadata": {},
   "outputs": [],
   "source": [
    "d = 2; % local dimension of all systems \n",
    "k = 2; % level of Doherty hierarchy to use\n",
    "\n",
    "% states\n",
    "\n",
    "rhoME = MaxEntangled(d)*MaxEntangled(d)';\n",
    "rho01 = [0 1 0 0]'*[0 1 0 0];\n",
    "rhoId = eye(d^2)/d^2;\n",
    "\n",
    "% (full) Bell state measurement\n",
    "\n",
    "Ma = BellStateMeasurement(d);\n",
    "\n",
    "% (tomographically complete) input states\n",
    "\n",
    "for x = 1:3\n",
    "    for a = 0:1\n",
    "        omegax(:,:,1+a+2*(x-1)) = (eye(2) + (-1)^a*Pauli(x))/2;\n",
    "    end\n",
    "end"
   ]
  },
  {
   "cell_type": "markdown",
   "metadata": {},
   "source": [
    "Produce the data for the graph:"
   ]
  },
  {
   "cell_type": "code",
   "execution_count": 99,
   "metadata": {},
   "outputs": [],
   "source": [
    "npoints = 101; % number of points to plot\n",
    "pv = linspace(0,1,npoints); \n",
    "\n",
    "TRGv = zeros(1,npoints);\n",
    "TRCv = zeros(1,npoints);\n",
    "TRRv = zeros(1,npoints);\n",
    "\n",
    "for i = 1:npoints\n",
    "\n",
    "    rho = pv(i)*rhoME + (1-pv(i))*rho01;\n",
    "    sigax = genTeleportationData(rho,Ma,omegax);\n",
    "    \n",
    "    TRGv(i) = teleportationRobustness(sigax,omegax,k);\n",
    "    TRCv(i) = teleportationClassicalRobustness(sigax,omegax,k);\n",
    "    TRRv(i) = teleportationRandomRobustness(sigax,omegax,k);\n",
    "    \n",
    "end"
   ]
  },
  {
   "cell_type": "markdown",
   "metadata": {},
   "source": [
    "We also want to compare to the average fidelity of teleportation that can be acheived with this family of states. "
   ]
  },
  {
   "cell_type": "code",
   "execution_count": 100,
   "metadata": {},
   "outputs": [],
   "source": [
    "Ftelv = zeros(1,npoints);\n",
    "\n",
    "for i = 1:npoints\n",
    "    rho = pv(i)*rhoME + (1-pv(i))*rho01;\n",
    "    for a = 1:4\n",
    "        Ftelv(i) = max(Ftelv(i),trace(rho*Ma(:,:,a))); \n",
    "        % We check the fidelity with the 4 outcomes of the BSM, since this is sufficient in this case to\n",
    "        % find the average fidelity of teleportation\n",
    "    end\n",
    "end"
   ]
  },
  {
   "cell_type": "markdown",
   "metadata": {},
   "source": [
    "Plot the graph:"
   ]
  },
  {
   "cell_type": "code",
   "execution_count": 153,
   "metadata": {},
   "outputs": [
    {
     "data": {
      "image/png": "[encoded data removed]",
      "text/plain": [
       "<IPython.core.display.Image object>"
      ]
     },
     "metadata": {},
     "output_type": "display_data"
    }
   ],
   "source": [
    "%plot inline --height=420 --width=640 --resolution=128\n",
    "plot(pv,TRGv,pv,TRCv,'--',pv,TRRv,pv,Ftelv,'-.')\n",
    "legend({'generalised teleportation robustness','classical teleportation robustness',...\n",
    "'random teleportation robustness','average fidelity of teleportation'})\n",
    "xlabel('$p$','Interpreter','latex','FontSize',14)\n",
    "ylabel('Robustness')\n",
    "set(gca,'FontName','Times')"
   ]
  },
  {
   "cell_type": "markdown",
   "metadata": {},
   "source": [
    "We see that all three robustnesses are larger than 0 for all $p> 0$, as expected. Moreover, the random teleportation is largest, while the classical and generalised teleportation robustnesses coincide, just as the separable and generalised entanglement robustnesses do."
   ]
  },
  {
   "cell_type": "markdown",
   "metadata": {},
   "source": [
    "## Figure 3"
   ]
  },
  {
   "cell_type": "markdown",
   "metadata": {},
   "source": [
    "In this figure we will look at the same state from above, but now we will look at the Teleportation Weight (TW) instead. We will consider a partial BSM as well as the full BSM, and consider non-tomographically complete sets of states -- eigenstates of $X$ and $Y$ only."
   ]
  },
  {
   "cell_type": "code",
   "execution_count": 154,
   "metadata": {},
   "outputs": [],
   "source": [
    "% (partial) Bell state measurement\n",
    "\n",
    "Na = zeros(d^2,d^2,2);\n",
    "Na(:,:,1) = Ma(:,:,1);\n",
    "Na(:,:,2) = eye(d^2) - Na(:,:,1);\n",
    "\n",
    "% (non tomographically complete) input states\n",
    "\n",
    "chix = omegax(:,:,1:4);"
   ]
  },
  {
   "cell_type": "markdown",
   "metadata": {},
   "source": [
    "Produce the data for the graph:"
   ]
  },
  {
   "cell_type": "code",
   "execution_count": 156,
   "metadata": {},
   "outputs": [],
   "source": [
    "npoints = 101; \n",
    "pv = linspace(0,1,npoints);\n",
    "\n",
    "TWftv = zeros(1,npoints);\n",
    "TWptv = zeros(1,npoints);\n",
    "TWfiv = zeros(1,npoints);\n",
    "TWpiv = zeros(1,npoints);\n",
    "\n",
    "for i = 1:npoints\n",
    "\n",
    "    rho = pv(i)*rhoME + (1-pv(i))*rhoId;\n",
    "    \n",
    "    sigax = genTeleportationData(rho,Ma,omegax);\n",
    "    TWftv(i) = teleportationWeight(sigax,omegax,k);\n",
    "    \n",
    "    sigax = genTeleportationData(rho,Na,omegax);\n",
    "    TWptv(i) = teleportationWeight(sigax,omegax,k);\n",
    "    \n",
    "    sigax = genTeleportationData(rho,Ma,chix);\n",
    "    TWfiv(i) = teleportationWeight(sigax,chix,k);\n",
    "    \n",
    "    sigax = genTeleportationData(rho,Na,chix);\n",
    "    TWpiv(i) = teleportationWeight(sigax,chix,k);\n",
    "    \n",
    "end"
   ]
  },
  {
   "cell_type": "markdown",
   "metadata": {},
   "source": [
    "Plot the graph:"
   ]
  },
  {
   "cell_type": "code",
   "execution_count": 157,
   "metadata": {},
   "outputs": [
    {
     "data": {
      "image/png": "[encoded data removed]",
      "text/plain": [
       "<IPython.core.display.Image object>"
      ]
     },
     "metadata": {},
     "output_type": "display_data"
    }
   ],
   "source": [
    "plot(pv,TWftv,pv,TWptv,'--',pv,TWfiv,pv,TWpiv,'--')\n",
    "legend({'full BSM + XYZ inputs','partial BSM + XYZ inputs',...\n",
    "'full BSM + XY inputs','partial BSM + XY inputs'})\n",
    "xlabel('$p$','Interpreter','latex','FontSize',16)\n",
    "ylabel('Teleportation Weight')"
   ]
  },
  {
   "cell_type": "markdown",
   "metadata": {},
   "source": [
    "## Figure 4"
   ]
  },
  {
   "cell_type": "markdown",
   "metadata": {},
   "source": [
    "We now want to consider the Horodecki state in $\\mathbb{C}^3 \\otimes \\mathbb{C}^3$ shared between Alice and Bob, and for Alice to perform a partial Bell State Measurement (i.e. projector onto $\\left|\\Phi^+_3\\right\\rangle$, and the orthogonal complement). \n",
    "\n",
    "For input states we will use the fact that a set of $d^2$ randomly chosen pure states from $\\mathbb{C}^d$ form a tomographically complete set of states. Thus we can choose 9 pure states from $\\mathbb{C}^3$ at random to produce the figure. \n"
   ]
  },
  {
   "cell_type": "code",
   "execution_count": null,
   "metadata": {},
   "outputs": [],
   "source": [
    "d = 3;\n",
    "k = 2;\n",
    "\n",
    "% partial Bell state measurement\n",
    "\n",
    "Ma = zeros(d^2,d^2,2);\n",
    "Ma(:,:,1) = MaxEntangled(d)*MaxEntangled(d)';\n",
    "Ma(:,:,2) = eye(d^2) - Ma(:,:,1);\n",
    "% input states (randomly choisen)\n",
    "\n",
    "omegax = zeros(d,d,d^2);\n",
    "for i = 1:d^2\n",
    "    psi = RandomStateVector(d);\n",
    "    omegax(:,:,i) = psi*psi';\n",
    "end"
   ]
  },
  {
   "cell_type": "markdown",
   "metadata": {},
   "source": [
    "Produce the data for the graph:"
   ]
  },
  {
   "cell_type": "code",
   "execution_count": null,
   "metadata": {},
   "outputs": [],
   "source": [
    "npoints = 101; \n",
    "av = linspace(0,1,npoints);\n",
    "\n",
    "TRGv = zeros(1,npoints);\n",
    "TRCv = zeros(1,npoints);\n",
    "TRRv = zeros(1,npoints);\n",
    "TWv = zeros(1,npoints);\n",
    "\n",
    "for i = 1:npoints\n",
    "\n",
    "    rho = HorodeckiState(av(i));\n",
    "    sigax = genTeleportationData(rho,Ma,omegax);\n",
    "    \n",
    "    TRGv(i) = teleportationRobustness(sigax,omegax,k);\n",
    "    TRCv(i) = teleportationClassicalRobustness(sigax,omegax,k);\n",
    "    TRRv(i) = teleportationRandomRobustness(sigax,omegax,k);\n",
    "    TWv(i) = teleportationWeight(sigax,omegax,k);\n",
    "    \n",
    "end"
   ]
  },
  {
   "cell_type": "markdown",
   "metadata": {},
   "source": [
    "Plot the graph:"
   ]
  },
  {
   "cell_type": "code",
   "execution_count": null,
   "metadata": {},
   "outputs": [],
   "source": [
    "plot(av,TRGv,av,TRCv,av,TRRv,av,TWv)\n",
    "ax = gca;\n",
    "legend({'generalised teleportation robustness','classical teleportation robustness',...\n",
    "'random teleportation robustness','teleportation weight'})\n",
    "xlabel('$a$','Interpreter','latex','FontSize',16)\n",
    "ylabel('quantifier')\n",
    "title('Teleportation using the Horodecki state')"
   ]
  },
  {
   "cell_type": "markdown",
   "metadata": {},
   "source": [
    "## Teleportation Negativity"
   ]
  },
  {
   "cell_type": "markdown",
   "metadata": {},
   "source": [
    "Finally we we look at the Teleportation Negativity. We will go back to the state considered in Fig. 2. "
   ]
  },
  {
   "cell_type": "code",
   "execution_count": null,
   "metadata": {},
   "outputs": [],
   "source": [
    "d = 2; % local dimension of all systems \n",
    "k = 2; % level of Doherty hierarchy to use\n",
    "\n",
    "% states\n",
    "\n",
    "rhoME = MaxEntangled(d)*MaxEntangled(d)';\n",
    "rho01 = [0 1 0 0]'*[0 1 0 0];\n",
    "\n",
    "% (full) Bell state measurement\n",
    "\n",
    "Ma = BellStateMeasurement(d);\n",
    "\n",
    "% (tomographically complete) input states\n",
    "\n",
    "omegax = zeros(d,d,6);\n",
    "for x = 1:3\n",
    "    for a = 0:1\n",
    "        omegax(:,:,1+a+2*(x-1)) = (eye(2) + (-1)^a*Pauli(x))/2;\n",
    "    end\n",
    "end"
   ]
  },
  {
   "cell_type": "markdown",
   "metadata": {},
   "source": [
    "Produce the data for the graph:"
   ]
  },
  {
   "cell_type": "code",
   "execution_count": null,
   "metadata": {},
   "outputs": [],
   "source": [
    "npoints = 101; % number of points to plot\n",
    "pv = linspace(0,1,npoints); \n",
    "\n",
    "TNv = zeros(1,npoints);\n",
    "Nv = zeros(1,npoints);\n",
    "\n",
    "for i = 1:npoints\n",
    "\n",
    "    rho = pv(i)*rhoME + (1-pv(i))*rho01;\n",
    "    sigax = genTeleportationData(rho,Ma,omegax);\n",
    "    \n",
    "    TNv(i) = teleportationNegativity(sigax,omegax);\n",
    "    Nv(i) = Negativity(rho);\n",
    "    \n",
    "end"
   ]
  },
  {
   "cell_type": "markdown",
   "metadata": {},
   "source": [
    "Plot the graph:"
   ]
  },
  {
   "cell_type": "code",
   "execution_count": null,
   "metadata": {},
   "outputs": [],
   "source": [
    "plot(pv,TNv,pv,Nv,'--')\n",
    "ax = gca;\n",
    "legend({'teleportation Negativity','Negativity'})\n",
    "xlabel('$p$','Interpreter','latex','FontSize',16)\n",
    "ylabel('Teleportation) Negativity')"
   ]
  },
  {
   "cell_type": "code",
   "execution_count": null,
   "metadata": {},
   "outputs": [],
   "source": []
  }
 ],
 "metadata": {
  "kernelspec": {
   "display_name": "Matlab",
   "language": "matlab",
   "name": "matlab"
  },
  "language_info": {
   "codemirror_mode": "octave",
   "file_extension": ".m",
   "help_links": [
    {
     "text": "MetaKernel Magics",
     "url": "https://github.com/calysto/metakernel/blob/master/metakernel/magics/README.md"
    }
   ],
   "mimetype": "text/x-octave",
   "name": "matlab",
   "version": "0.15.0"
  }
 },
 "nbformat": 4,
 "nbformat_minor": 2
}
