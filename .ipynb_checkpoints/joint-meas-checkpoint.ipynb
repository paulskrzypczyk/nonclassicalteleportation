{
 "cells": [
  {
   "cell_type": "markdown",
   "metadata": {},
   "source": [
    "## Finding examples of sets of POVMs that require a maximal parent"
   ]
  },
  {
   "cell_type": "code",
   "execution_count": 2,
   "metadata": {},
   "outputs": [],
   "source": [
    "alpha = [1,sqrt(2)/4];\n",
    "beta = [0,sqrt(2)/4];\n",
    "gam = [0,sqrt(3)/2];\n",
    "\n",
    "rhoxlam = zeros(3,3,3,8);\n",
    "omegalam = zeros(3,3,8);\n",
    "\n",
    "Id = eye(3);\n",
    "\n",
    "for a0 = 0:1\n",
    "    for a1 = 0:1\n",
    "        for a2 = 0:1\n",
    "            av = [a0 a1 a2];\n",
    "            psi = alpha(a2+1)*(-1)^(a0+a1)*Id(:,a1+1) + beta(a2+1)*Id(:,~a1+1) + gam(a2+1)*(-1)^(a0*a1)*Id(:,3);\n",
    "            omegalam(:,:,1+a2+2*a1+4*a0) = (~a2*(~a0+~a1)+a2*(~a0+~a1-1))/5*psi*psi';\n",
    "            for x = 0:2\n",
    "                rhoxlam(:,:,x+1,1+a2+2*a1+4*a0) = -1/5*(-1)^av(x+1)*psi*psi';\n",
    "            end\n",
    "        end\n",
    "    end\n",
    "end"
   ]
  },
  {
   "cell_type": "code",
   "execution_count": 27,
   "metadata": {},
   "outputs": [],
   "source": [
    "theta = pi/8;\n",
    "phi = asin(sqrt(2/3)); % needs to be this for a valid POVM\n",
    "\n",
    "ct = cos(theta);\n",
    "st = sin(theta);\n",
    "\n",
    "cp = cos(phi);\n",
    "sp = sin(phi);\n",
    "\n",
    "X = Pauli(1);\n",
    "Z = Pauli(3);\n",
    "\n",
    "Ga = zeros(3,3,8);\n",
    "\n",
    "Ga(1:2,1:2,1) = 3/8*[ct;st]*[ct,st];\n",
    "Ga(1:2,1:2,3) = 3/8*[st;ct]*[st,ct];\n",
    "Ga(1:2,1:2,5) = 3/8*[-ct;st]*[-ct,st];\n",
    "Ga(1:2,1:2,7) = 3/8*[-st;ct]*[-st,ct];\n",
    "\n",
    "Ga(:,:,2) = 3/8*[cp/sqrt(2);cp/sqrt(2);sp]*[cp/sqrt(2),cp/sqrt(2),sp];\n",
    "Ga(:,:,4) = 3/8*[cp/sqrt(2);-cp/sqrt(2);sp]*[cp/sqrt(2),-cp/sqrt(2),sp];\n",
    "Ga(:,:,6) = 3/8*[cp/sqrt(2);-cp/sqrt(2);-sp]*[cp/sqrt(2),-cp/sqrt(2),-sp];\n",
    "Ga(:,:,8) = 3/8*[cp/sqrt(2);cp/sqrt(2);-sp]*[cp/sqrt(2),cp/sqrt(2),-sp];\n",
    "\n",
    "sum(Ga,3);\n",
    "\n",
    "Max = zeros(3,3,3);\n",
    "\n",
    "Max(:,:,1) = sum(Ga(:,:,[1,2,3,4]),3);\n",
    "Max(:,:,2) = sum(Ga(:,:,[1,2,5,6]),3);\n",
    "Max(:,:,3) = sum(Ga(:,:,[1,3,5,7]),3);"
   ]
  },
  {
   "cell_type": "code",
   "execution_count": 28,
   "metadata": {},
   "outputs": [
    {
     "name": "stdout",
     "output_type": "stream",
     "text": [
      "\n",
      "mu =\n",
      "\n",
      "  Columns 1 through 7\n",
      "\n",
      "   -0.0030   -0.0370   -0.0030   -0.0105   -0.0030   -0.0370   -0.0030\n",
      "\n",
      "  Column 8\n",
      "\n",
      "   -0.0105\n",
      "\n"
     ]
    }
   ],
   "source": [
    "for i = 1:8\n",
    "    rho = rhoxlam(:,:,:,i); \n",
    "    omega = omegalam(:,:,i);\n",
    "    mu(i) = real(sumall(rho.*conj(Max))+trace(omega));\n",
    "end\n",
    "\n",
    "mu"
   ]
  },
  {
   "cell_type": "code",
   "execution_count": null,
   "metadata": {},
   "outputs": [],
   "source": []
  }
 ],
 "metadata": {
  "kernelspec": {
   "display_name": "Matlab",
   "language": "matlab",
   "name": "matlab"
  },
  "language_info": {
   "codemirror_mode": "octave",
   "file_extension": ".m",
   "help_links": [
    {
     "text": "MetaKernel Magics",
     "url": "https://github.com/calysto/metakernel/blob/master/metakernel/magics/README.md"
    }
   ],
   "mimetype": "text/x-octave",
   "name": "matlab",
   "version": "0.15.0"
  }
 },
 "nbformat": 4,
 "nbformat_minor": 2
}
