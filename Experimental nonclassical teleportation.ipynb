{
 "cells": [
  {
   "cell_type": "markdown",
   "metadata": {},
   "source": [
    "# Experimental study of nonclassical teleportation beyond average fidelity"
   ]
  },
  {
   "cell_type": "markdown",
   "metadata": {},
   "source": [
    "## Ideal case analysis:"
   ]
  },
  {
   "cell_type": "markdown",
   "metadata": {},
   "source": [
    "Input states:"
   ]
  },
  {
   "cell_type": "code",
   "execution_count": 1,
   "metadata": {},
   "outputs": [],
   "source": [
    "psix = zeros(2,2,6);\n",
    "\n",
    "psix(:,:,1) = 1/2*(eye(2) + Pauli(1));\n",
    "psix(:,:,2) = 1/2*(eye(2) - Pauli(1));\n",
    "psix(:,:,3) = 1/2*(eye(2) + Pauli(2));\n",
    "psix(:,:,4) = 1/2*(eye(2) - Pauli(2));\n",
    "psix(:,:,5) = 1/2*(eye(2) + Pauli(3));\n",
    "psix(:,:,6) = 1/2*(eye(2) - Pauli(3));"
   ]
  },
  {
   "cell_type": "markdown",
   "metadata": {},
   "source": [
    "Shared state:"
   ]
  },
  {
   "cell_type": "code",
   "execution_count": 30,
   "metadata": {},
   "outputs": [],
   "source": [
    "psim = [0 1 -1 0]'/sqrt(2);\n",
    "psip = [0 1 1 0]'/sqrt(2);\n",
    "\n",
    "psi11 = [0 0 0 1]';\n",
    "\n",
    "gamma = 0.9;\n",
    "rho = gamma*psim*psim' + (1-gamma)*psi11*psi11';"
   ]
  },
  {
   "cell_type": "markdown",
   "metadata": {},
   "source": [
    "Measurement:"
   ]
  },
  {
   "cell_type": "code",
   "execution_count": 20,
   "metadata": {},
   "outputs": [],
   "source": [
    "Ma = zeros(4,4,2);\n",
    "Ma(:,:,1) = psim*psim';\n",
    "Ma(:,:,2) = eye(4) - Ma(:,:,1);"
   ]
  },
  {
   "cell_type": "markdown",
   "metadata": {},
   "source": [
    "Generate teleportation data:"
   ]
  },
  {
   "cell_type": "code",
   "execution_count": 21,
   "metadata": {},
   "outputs": [],
   "source": [
    "sigma = genTeleportationData(rho,Ma,psix);\n",
    "sigx = squeeze(sigma(:,:,1,:));"
   ]
  },
  {
   "cell_type": "code",
   "execution_count": 22,
   "metadata": {},
   "outputs": [
    {
     "name": "stdout",
     "output_type": "stream",
     "text": [
      "paulidecomp =\n",
      "    0.2500    0.9000         0   -0.1000\n",
      "    0.2500   -0.9000         0   -0.1000\n",
      "    0.2500         0    0.9000   -0.1000\n",
      "    0.2500         0   -0.9000   -0.1000\n",
      "    0.2750         0         0    0.6364\n",
      "    0.2250         0         0   -1.0000\n"
     ]
    }
   ],
   "source": [
    "paulidecomp = zeros(6,4);\n",
    "\n",
    "for x = 1:6\n",
    "    paulidecomp(x,:) = [trace(sigx(:,:,x)) [trace(sigx(:,:,x)*Pauli(1)) trace(sigx(:,:,x)*Pauli(2)) trace(sigx(:,:,x)*Pauli(3))]/trace(sigx(:,:,x))];\n",
    "    \n",
    "end\n",
    "\n",
    "paulidecomp"
   ]
  },
  {
   "cell_type": "markdown",
   "metadata": {},
   "source": [
    "Witness:"
   ]
  },
  {
   "cell_type": "code",
   "execution_count": 31,
   "metadata": {},
   "outputs": [],
   "source": [
    "theta = atan(gamma/(1-gamma));\n",
    "\n",
    "Fax = zeros(2,2,6);\n",
    "Fax(:,:,1) = -2*sin(theta)*Pauli(1);\n",
    "Fax(:,:,2) = +2*sin(theta)*Pauli(1);\n",
    "Fax(:,:,3) = -2*sin(theta)*Pauli(2);\n",
    "Fax(:,:,4) = +2*sin(theta)*Pauli(2);\n",
    "Fax(:,:,5) = 2*(1-cos(theta))*(eye(2) - Pauli(3));\n",
    "Fax(:,:,6) = 2*(1+cos(theta))*(eye(2) + Pauli(3));"
   ]
  },
  {
   "cell_type": "markdown",
   "metadata": {},
   "source": [
    "Witness value:"
   ]
  },
  {
   "cell_type": "code",
   "execution_count": 26,
   "metadata": {},
   "outputs": [
    {
     "name": "stdout",
     "output_type": "stream",
     "text": [
      "beta =\n",
      "   -1.6111\n"
     ]
    }
   ],
   "source": [
    "beta = 0;\n",
    "for x = 1:6\n",
    "    beta = beta + trace(Fax(:,:,x)*sigx(:,:,x));\n",
    "end\n",
    "\n",
    "beta"
   ]
  },
  {
   "cell_type": "markdown",
   "metadata": {},
   "source": [
    "Check this value:  \n",
    "It should be $-2\\gamma\\sin \\theta + 2(1-\\gamma)(1-\\cos\\theta)$"
   ]
  },
  {
   "cell_type": "code",
   "execution_count": 32,
   "metadata": {},
   "outputs": [
    {
     "name": "stdout",
     "output_type": "stream",
     "text": [
      "ans =\n",
      "   -1.6111\n"
     ]
    }
   ],
   "source": [
    "-2*gamma*sin(theta) + 2*(1-gamma)*(1-cos(theta))"
   ]
  },
  {
   "cell_type": "markdown",
   "metadata": {},
   "source": [
    "$M^{VB}_0$ calculation:"
   ]
  },
  {
   "cell_type": "code",
   "execution_count": 19,
   "metadata": {},
   "outputs": [
    {
     "name": "stdout",
     "output_type": "stream",
     "text": [
      "V =\n",
      "         0    1.0000         0         0\n",
      "   -0.7451         0         0    0.6669\n",
      "    0.6669         0         0    0.7451\n",
      "         0         0    1.0000         0\n",
      "D =\n",
      "   -0.0000         0         0         0\n",
      "         0         0         0         0\n",
      "         0         0         0         0\n",
      "         0         0         0    8.0000\n"
     ]
    }
   ],
   "source": [
    "M = zeros(4,4);\n",
    "for x = 1:6\n",
    "    M = M + Tensor(psix(:,:,x),Fax(:,:,x));\n",
    "end\n",
    "\n",
    "[V,D] = eig(M)"
   ]
  },
  {
   "cell_type": "markdown",
   "metadata": {},
   "source": [
    "## Experimental case analysis:"
   ]
  },
  {
   "cell_type": "markdown",
   "metadata": {},
   "source": [
    "Shared state:"
   ]
  },
  {
   "cell_type": "code",
   "execution_count": 83,
   "metadata": {},
   "outputs": [],
   "source": [
    "rhoexp = @(v,gamma,delta) 1/4*[(1-v^2)*gamma,0,0,0;0,2-gamma+v^2*(-2+3*gamma),-2*(1-2*delta)^2*v^2*gamma,...\n",
    "                                0;0,-2*(1-2*delta)^2*v^2*gamma,(1+v^2)*gamma,0;0,0,0,2+v^2*(2-3*gamma)-gamma];"
   ]
  },
  {
   "cell_type": "markdown",
   "metadata": {},
   "source": [
    "Experimentally obtained values for $\\nu$ and $\\delta$:"
   ]
  },
  {
   "cell_type": "code",
   "execution_count": 84,
   "metadata": {},
   "outputs": [],
   "source": [
    "v = 0.962;\n",
    "delta = 0.872;"
   ]
  },
  {
   "cell_type": "markdown",
   "metadata": {},
   "source": [
    "Generate teleportation data, fixing a value for $\\gamma$:"
   ]
  },
  {
   "cell_type": "code",
   "execution_count": 85,
   "metadata": {},
   "outputs": [],
   "source": [
    "gamma = 0.9;\n",
    "\n",
    "sigmaexp = genTeleportationData(rhoexp(v,gamma,delta),Ma,psix);\n",
    "sigxexp = squeeze(sigmaexp(:,:,1,:));"
   ]
  },
  {
   "cell_type": "markdown",
   "metadata": {},
   "source": [
    "Fix the teleportation witness, using the optimal value for $\\theta$:"
   ]
  },
  {
   "cell_type": "code",
   "execution_count": 77,
   "metadata": {},
   "outputs": [],
   "source": [
    "theta = atan(2*(1-2*delta)^2*nu^2*gamma/(1+nu^2)/(1-gamma));\n",
    "\n",
    "Fax = zeros(2,2,6);\n",
    "Fax(:,:,1) = -2*sin(theta)*Pauli(1);\n",
    "Fax(:,:,2) = +2*sin(theta)*Pauli(1);\n",
    "Fax(:,:,3) = -2*sin(theta)*Pauli(2);\n",
    "Fax(:,:,4) = +2*sin(theta)*Pauli(2);\n",
    "Fax(:,:,5) = 2*(1-cos(theta))*(eye(2) - Pauli(3));\n",
    "Fax(:,:,6) = 2*(1+cos(theta))*(eye(2) + Pauli(3));"
   ]
  },
  {
   "cell_type": "markdown",
   "metadata": {},
   "source": [
    "Witness value:"
   ]
  },
  {
   "cell_type": "code",
   "execution_count": 81,
   "metadata": {},
   "outputs": [
    {
     "name": "stdout",
     "output_type": "stream",
     "text": [
      "beta =\n",
      "   -0.6823\n"
     ]
    }
   ],
   "source": [
    "beta = 0;\n",
    "for x = 1:6\n",
    "    beta = beta + trace(Fax(:,:,x)*sigxexp(:,:,x));\n",
    "end\n",
    "\n",
    "beta"
   ]
  },
  {
   "cell_type": "markdown",
   "metadata": {},
   "source": [
    "Check that this is equal to $1+v^2-2\\gamma v^2-(1-\\gamma)(1+v^2)\\cos(\\theta) - 2\\gamma(1-2\\delta)^2v^2\\sin(\\theta)$"
   ]
  },
  {
   "cell_type": "code",
   "execution_count": 80,
   "metadata": {},
   "outputs": [
    {
     "name": "stdout",
     "output_type": "stream",
     "text": [
      "ans =\n",
      "   -0.6823\n"
     ]
    }
   ],
   "source": [
    "1+v^2-2*gamma*v^2-(1-gamma)*(1+v^2)*cos(theta) - 2*gamma*(1-2*delta)^2*v^2*sin(theta)"
   ]
  },
  {
   "cell_type": "markdown",
   "metadata": {},
   "source": [
    "### Teleportation based estimation of entanglement based on witness violation"
   ]
  },
  {
   "cell_type": "code",
   "execution_count": 109,
   "metadata": {},
   "outputs": [
    {
     "name": "stdout",
     "output_type": "stream",
     "text": [
      "Created file '/home/phyps/Dropbox/Shared Folders/Steering and teleportation/experimentalists/teleportationNegativityWitness.m'.\n"
     ]
    }
   ],
   "source": [
    "%%file teleportationNegativityWitness.m\n",
    "\n",
    "function TNW = teleportationNegativityWitness(Fax,betaobs,omegax)\n",
    "\n",
    "[dB,~,oa,ma] = size(Fax); % dim. of B, no. of outcomes of Ma, number of \n",
    "                            % input states for Alice\n",
    "[dV,~,~] = size(omegax); % dimension of input states\n",
    "\n",
    "cvx_begin sdp quiet\n",
    "\n",
    "    variable Map(dV*dB,dV*dB,oa) hermitian semidefinite% M_a^VB\n",
    "    variable Mam(dV*dB,dV*dB,oa) hermitian semidefinite % N_a^VB\n",
    "    variable rhoBp(dB,dB) hermitian semidefinite\n",
    "    variable rhoBm(dB,dB) hermitian semidefinite\n",
    "    \n",
    "    expression betavar\n",
    "    \n",
    "    minimise trace(rhoBm) \n",
    "    \n",
    "    subject to\n",
    "    \n",
    "    \n",
    "    betavar = 0;\n",
    "    for x = 1:ma\n",
    "        for a = 1:oa\n",
    "            betavar = betavar + trace((Map(:,:,a)-Mam(:,:,a))*...\n",
    "                Tensor(omegax(:,:,x),Fax(:,:,a,x)));\n",
    "        end\n",
    "    end\n",
    "    \n",
    "    betavar == betaobs\n",
    "    \n",
    "    sum(Map,3) == Tensor(eye(dV),rhoBp)\n",
    "    sum(Mam,3) == Tensor(eye(dV),rhoBm)\n",
    "    % sum_a Ma+/- = Id otimes rhoB (no-signalling)\n",
    "    \n",
    "cvx_end\n",
    "\n",
    "TNW = cvx_optval;\n",
    "\n",
    "end\n"
   ]
  },
  {
   "cell_type": "markdown",
   "metadata": {},
   "source": [
    "### Ideal case"
   ]
  },
  {
   "cell_type": "code",
   "execution_count": 153,
   "metadata": {},
   "outputs": [
    {
     "data": {
      "image/png": "[encoded data removed]",
      "text/plain": [
       "<IPython.core.display.Image object>"
      ]
     },
     "metadata": {},
     "output_type": "display_data"
    }
   ],
   "source": [
    "clear\n",
    "\n",
    "omegax = zeros(2,2,6);\n",
    "\n",
    "omegax(:,:,1) = 1/2*(eye(2) + Pauli(1));\n",
    "omegax(:,:,2) = 1/2*(eye(2) - Pauli(1));\n",
    "omegax(:,:,3) = 1/2*(eye(2) + Pauli(2));\n",
    "omegax(:,:,4) = 1/2*(eye(2) - Pauli(2));\n",
    "omegax(:,:,5) = 1/2*(eye(2) + Pauli(3));\n",
    "omegax(:,:,6) = 1/2*(eye(2) - Pauli(3));\n",
    "\n",
    "Gax = zeros(2,2,2,6);\n",
    "Gax(:,:,1,1) = 1/6*(eye(2) + Pauli(1))/2;\n",
    "Gax(:,:,1,2) = 1/6*(eye(2) - Pauli(1))/2;\n",
    "Gax(:,:,1,3) = 1/6*(eye(2) + Pauli(2))/2;\n",
    "Gax(:,:,1,4) = 1/6*(eye(2) - Pauli(2))/2;\n",
    "Gax(:,:,1,5) = 1/6*(eye(2) + Pauli(3))/2;\n",
    "Gax(:,:,1,6) = 1/6*(eye(2) - Pauli(3))/2;\n",
    "\n",
    "\n",
    "psim = [0 1 -1 0]'/sqrt(2);\n",
    "psip = [0 1 1 0]'/sqrt(2);\n",
    "\n",
    "psi11 = [0 0 0 1]';\n",
    "\n",
    "Ma = zeros(4,4,2);\n",
    "Ma(:,:,1) = psim*psim';\n",
    "Ma(:,:,2) = eye(4) - Ma(:,:,1);\n",
    "\n",
    "npoints = 21;\n",
    "gammav = linspace(0,1,npoints);\n",
    "TNWv = zeros(1,npoints);\n",
    "TNWAFv = zeros(1,npoints);\n",
    "TNv = zeros(1,npoints);\n",
    "Nv = zeros(1,npoints);\n",
    "\n",
    "for i = 1:npoints\n",
    "\n",
    "    gamma = gammav(i);\n",
    "    rho = gamma*psim*psim' + (1-gamma)*psi11*psi11';\n",
    "    Nv(i) = Negativity(rho);\n",
    "\n",
    "    sigma = genTeleportationData(rho,Ma,omegax);\n",
    "\n",
    "    theta = atan(gamma/(1-gamma));\n",
    "\n",
    "    Fax = zeros(2,2,2,6);\n",
    "    Fax(:,:,1,1) = -2*sin(theta)*Pauli(1);\n",
    "    Fax(:,:,1,2) = +2*sin(theta)*Pauli(1);\n",
    "    Fax(:,:,1,3) = -2*sin(theta)*Pauli(2);\n",
    "    Fax(:,:,1,4) = +2*sin(theta)*Pauli(2);\n",
    "    Fax(:,:,1,5) = 2*(1-cos(theta))*(eye(2) - Pauli(3));\n",
    "    Fax(:,:,1,6) = 2*(1+cos(theta))*(eye(2) + Pauli(3));\n",
    "\n",
    "    betaobs = 0;\n",
    "    for x = 1:6\n",
    "        for a = 1:2\n",
    "            betaobs = betaobs + trace(Fax(:,:,a,x)*sigma(:,:,a,x));\n",
    "        end\n",
    "    end\n",
    "    \n",
    "    betaobsAF = 0;\n",
    "    for x = 1:6\n",
    "        for a = 1:2\n",
    "            betaobsAF = betaobsAF + trace(Gax(:,:,a,x)*sigma(:,:,a,x));\n",
    "        end\n",
    "    end\n",
    "    \n",
    "    TNWv(i) = teleportationNegativityWitness(Fax,betaobs,omegax);\n",
    "    TNWAFv(i) = teleportationNegativityWitness(Gax,betaobsAF,omegax);\n",
    "    TNv(i) = teleportationNegativity(sigma,omegax);\n",
    "    \n",
    "end\n",
    "\n",
    "plot(gammav,Nv,gammav,TNv,gammav,TNWv,gammav,TNWAFv)\n",
    "legend('negativity','full data','optimised witness','average fidelity')"
   ]
  },
  {
   "cell_type": "code",
   "execution_count": null,
   "metadata": {},
   "outputs": [],
   "source": []
  }
 ],
 "metadata": {
  "kernelspec": {
   "display_name": "Matlab",
   "language": "matlab",
   "name": "matlab"
  },
  "language_info": {
   "codemirror_mode": "octave",
   "file_extension": ".m",
   "help_links": [
    {
     "text": "MetaKernel Magics",
     "url": "https://github.com/calysto/metakernel/blob/master/metakernel/magics/README.md"
    }
   ],
   "mimetype": "text/x-octave",
   "name": "matlab",
   "version": "0.15.0"
  }
 },
 "nbformat": 4,
 "nbformat_minor": 2
}
