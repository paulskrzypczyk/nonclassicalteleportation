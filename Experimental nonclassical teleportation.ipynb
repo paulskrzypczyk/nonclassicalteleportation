{
 "cells": [
  {
   "cell_type": "markdown",
   "metadata": {},
   "source": [
    "# Experimental study of nonclassical teleportation beyond average fidelity"
   ]
  },
  {
   "cell_type": "markdown",
   "metadata": {},
   "source": [
    "## Ideal case analysis:\n",
    "\n",
    "In this section we are going to check the calculations already presented in the paper for correctness"
   ]
  },
  {
   "cell_type": "markdown",
   "metadata": {},
   "source": [
    "Input states:"
   ]
  },
  {
   "cell_type": "code",
   "execution_count": 1,
   "metadata": {},
   "outputs": [],
   "source": [
    "psix = zeros(2,2,6);\n",
    "\n",
    "psix(:,:,1) = 1/2*(eye(2) + Pauli(1));\n",
    "psix(:,:,2) = 1/2*(eye(2) - Pauli(1));\n",
    "psix(:,:,3) = 1/2*(eye(2) + Pauli(2));\n",
    "psix(:,:,4) = 1/2*(eye(2) - Pauli(2));\n",
    "psix(:,:,5) = 1/2*(eye(2) + Pauli(3));\n",
    "psix(:,:,6) = 1/2*(eye(2) - Pauli(3));"
   ]
  },
  {
   "cell_type": "markdown",
   "metadata": {},
   "source": [
    "Shared state:"
   ]
  },
  {
   "cell_type": "code",
   "execution_count": 30,
   "metadata": {},
   "outputs": [],
   "source": [
    "psim = [0 1 -1 0]'/sqrt(2);\n",
    "psip = [0 1 1 0]'/sqrt(2);\n",
    "\n",
    "psi11 = [0 0 0 1]';\n",
    "\n",
    "gamma = 0.9;\n",
    "rho = gamma*psim*psim' + (1-gamma)*psi11*psi11';"
   ]
  },
  {
   "cell_type": "markdown",
   "metadata": {},
   "source": [
    "Measurement:"
   ]
  },
  {
   "cell_type": "code",
   "execution_count": 20,
   "metadata": {},
   "outputs": [],
   "source": [
    "Ma = zeros(4,4,2);\n",
    "Ma(:,:,1) = psim*psim';\n",
    "Ma(:,:,2) = eye(4) - Ma(:,:,1);"
   ]
  },
  {
   "cell_type": "markdown",
   "metadata": {},
   "source": [
    "Generate teleportation data:"
   ]
  },
  {
   "cell_type": "code",
   "execution_count": 21,
   "metadata": {},
   "outputs": [],
   "source": [
    "sigma = genTeleportationData(rho,Ma,psix);\n",
    "sigx = squeeze(sigma(:,:,1,:));"
   ]
  },
  {
   "cell_type": "code",
   "execution_count": 22,
   "metadata": {},
   "outputs": [
    {
     "name": "stdout",
     "output_type": "stream",
     "text": [
      "paulidecomp =\n",
      "    0.2500    0.9000         0   -0.1000\n",
      "    0.2500   -0.9000         0   -0.1000\n",
      "    0.2500         0    0.9000   -0.1000\n",
      "    0.2500         0   -0.9000   -0.1000\n",
      "    0.2750         0         0    0.6364\n",
      "    0.2250         0         0   -1.0000\n"
     ]
    }
   ],
   "source": [
    "paulidecomp = zeros(6,4);\n",
    "\n",
    "for x = 1:6\n",
    "    paulidecomp(x,:) = [trace(sigx(:,:,x)) [trace(sigx(:,:,x)*Pauli(1)) trace(sigx(:,:,x)*Pauli(2)) trace(sigx(:,:,x)*Pauli(3))]/trace(sigx(:,:,x))];\n",
    "    \n",
    "end\n",
    "\n",
    "paulidecomp"
   ]
  },
  {
   "cell_type": "markdown",
   "metadata": {},
   "source": [
    "Witness:"
   ]
  },
  {
   "cell_type": "code",
   "execution_count": 31,
   "metadata": {},
   "outputs": [],
   "source": [
    "theta = atan(gamma/(1-gamma));\n",
    "\n",
    "Fax = zeros(2,2,6);\n",
    "Fax(:,:,1) = -2*sin(theta)*Pauli(1);\n",
    "Fax(:,:,2) = +2*sin(theta)*Pauli(1);\n",
    "Fax(:,:,3) = -2*sin(theta)*Pauli(2);\n",
    "Fax(:,:,4) = +2*sin(theta)*Pauli(2);\n",
    "Fax(:,:,5) = 2*(1-cos(theta))*(eye(2) - Pauli(3));\n",
    "Fax(:,:,6) = 2*(1+cos(theta))*(eye(2) + Pauli(3));"
   ]
  },
  {
   "cell_type": "markdown",
   "metadata": {},
   "source": [
    "Witness value:"
   ]
  },
  {
   "cell_type": "code",
   "execution_count": 26,
   "metadata": {},
   "outputs": [
    {
     "name": "stdout",
     "output_type": "stream",
     "text": [
      "beta =\n",
      "   -1.6111\n"
     ]
    }
   ],
   "source": [
    "beta = 0;\n",
    "for x = 1:6\n",
    "    beta = beta + trace(Fax(:,:,x)*sigx(:,:,x));\n",
    "end\n",
    "\n",
    "beta"
   ]
  },
  {
   "cell_type": "markdown",
   "metadata": {},
   "source": [
    "Check this value:  \n",
    "It should be $-2\\gamma\\sin \\theta + 2(1-\\gamma)(1-\\cos\\theta)$"
   ]
  },
  {
   "cell_type": "code",
   "execution_count": 32,
   "metadata": {},
   "outputs": [
    {
     "name": "stdout",
     "output_type": "stream",
     "text": [
      "ans =\n",
      "   -1.6111\n"
     ]
    }
   ],
   "source": [
    "-2*gamma*sin(theta) + 2*(1-gamma)*(1-cos(theta))"
   ]
  },
  {
   "cell_type": "markdown",
   "metadata": {},
   "source": [
    "$M^{VB}_0$ calculation:"
   ]
  },
  {
   "cell_type": "code",
   "execution_count": 19,
   "metadata": {},
   "outputs": [
    {
     "name": "stdout",
     "output_type": "stream",
     "text": [
      "V =\n",
      "         0    1.0000         0         0\n",
      "   -0.7451         0         0    0.6669\n",
      "    0.6669         0         0    0.7451\n",
      "         0         0    1.0000         0\n",
      "D =\n",
      "   -0.0000         0         0         0\n",
      "         0         0         0         0\n",
      "         0         0         0         0\n",
      "         0         0         0    8.0000\n"
     ]
    }
   ],
   "source": [
    "M = zeros(4,4);\n",
    "for x = 1:6\n",
    "    M = M + Tensor(psix(:,:,x),Fax(:,:,x));\n",
    "end\n",
    "\n",
    "[V,D] = eig(M)"
   ]
  },
  {
   "cell_type": "markdown",
   "metadata": {},
   "source": [
    "#### Conclusion:\n",
    "\n",
    "The conclusion from the above is that for the ideal analysis, everything is indeed correct."
   ]
  },
  {
   "cell_type": "markdown",
   "metadata": {},
   "source": [
    "## Experimental case analysis:"
   ]
  },
  {
   "cell_type": "markdown",
   "metadata": {},
   "source": [
    "Shared state:\n",
    "\n",
    "NOTE: Here we are correcting the typo $\\nu \\to \\nu^2$ from the paper"
   ]
  },
  {
   "cell_type": "code",
   "execution_count": 83,
   "metadata": {},
   "outputs": [],
   "source": [
    "rhoexp = @(v,gamma,delta) 1/4*[(1-v^2)*gamma,0,0,0;0,2-gamma+v^2*(-2+3*gamma),-2*(1-2*delta)^2*v^2*gamma,...\n",
    "                                0;0,-2*(1-2*delta)^2*v^2*gamma,(1+v^2)*gamma,0;0,0,0,2+v^2*(2-3*gamma)-gamma];"
   ]
  },
  {
   "cell_type": "markdown",
   "metadata": {},
   "source": [
    "Experimentally obtained values for $\\nu$ and $\\delta$:"
   ]
  },
  {
   "cell_type": "code",
   "execution_count": 84,
   "metadata": {},
   "outputs": [],
   "source": [
    "v = 0.962;\n",
    "delta = 0.872;"
   ]
  },
  {
   "cell_type": "markdown",
   "metadata": {},
   "source": [
    "Generate teleportation data, fixing a value for $\\gamma$:"
   ]
  },
  {
   "cell_type": "code",
   "execution_count": 85,
   "metadata": {},
   "outputs": [],
   "source": [
    "gamma = 0.9;\n",
    "\n",
    "sigmaexp = genTeleportationData(rhoexp(v,gamma,delta),Ma,psix);\n",
    "sigxexp = squeeze(sigmaexp(:,:,1,:));"
   ]
  },
  {
   "cell_type": "markdown",
   "metadata": {},
   "source": [
    "Fix the teleportation witness, using the optimal value for $\\theta$:"
   ]
  },
  {
   "cell_type": "code",
   "execution_count": 77,
   "metadata": {},
   "outputs": [],
   "source": [
    "theta = atan(2*(1-2*delta)^2*v^2*gamma/(1+v^2)/(1-gamma));\n",
    "\n",
    "Fax = zeros(2,2,6);\n",
    "Fax(:,:,1) = -2*sin(theta)*Pauli(1);\n",
    "Fax(:,:,2) = +2*sin(theta)*Pauli(1);\n",
    "Fax(:,:,3) = -2*sin(theta)*Pauli(2);\n",
    "Fax(:,:,4) = +2*sin(theta)*Pauli(2);\n",
    "Fax(:,:,5) = 2*(1-cos(theta))*(eye(2) - Pauli(3));\n",
    "Fax(:,:,6) = 2*(1+cos(theta))*(eye(2) + Pauli(3));"
   ]
  },
  {
   "cell_type": "markdown",
   "metadata": {},
   "source": [
    "Witness value:"
   ]
  },
  {
   "cell_type": "code",
   "execution_count": 81,
   "metadata": {},
   "outputs": [
    {
     "name": "stdout",
     "output_type": "stream",
     "text": [
      "beta =\n",
      "   -0.6823\n"
     ]
    }
   ],
   "source": [
    "beta = 0;\n",
    "for x = 1:6\n",
    "    beta = beta + trace(Fax(:,:,x)*sigxexp(:,:,x));\n",
    "end\n",
    "\n",
    "beta"
   ]
  },
  {
   "cell_type": "markdown",
   "metadata": {},
   "source": [
    "Check that this is equal to $1+v^2-2\\gamma v^2-(1-\\gamma)(1+v^2)\\cos(\\theta) - 2\\gamma(1-2\\delta)^2v^2\\sin(\\theta)$"
   ]
  },
  {
   "cell_type": "code",
   "execution_count": 80,
   "metadata": {},
   "outputs": [
    {
     "name": "stdout",
     "output_type": "stream",
     "text": [
      "ans =\n",
      "   -0.6823\n"
     ]
    }
   ],
   "source": [
    "1+v^2-2*gamma*v^2-(1-gamma)*(1+v^2)*cos(theta) - 2*gamma*(1-2*delta)^2*v^2*sin(theta)"
   ]
  },
  {
   "cell_type": "markdown",
   "metadata": {},
   "source": [
    "#### Conclusion:\n",
    "\n",
    "Once again, we conclude that everything is ok once the typo was taken care of."
   ]
  },
  {
   "cell_type": "markdown",
   "metadata": {},
   "source": [
    "### Teleportation based estimation of entanglement based on witness violation\n",
    "\n",
    "The goal in this section is to add a new result to the paper: Estimation of negativity using the witness violation."
   ]
  },
  {
   "cell_type": "code",
   "execution_count": 165,
   "metadata": {},
   "outputs": [
    {
     "name": "stdout",
     "output_type": "stream",
     "text": [
      "Created file '/home/phyps/Dropbox/Shared Folders/Steering and teleportation/experimentalists/teleportationNegativityWitness.m'.\n"
     ]
    }
   ],
   "source": [
    "%%file teleportationNegativityWitness.m\n",
    "\n",
    "function TNW = teleportationNegativityWitness(Fax,betaobs,omegax)\n",
    "\n",
    "[dB,~,oa,ma] = size(Fax); % dim. of B, no. of outcomes of Ma, number of \n",
    "                            % input states for Alice\n",
    "[dV,~,~] = size(omegax); % dimension of input states\n",
    "\n",
    "cvx_begin sdp quiet\n",
    "\n",
    "    variable Map(dV*dB,dV*dB,oa) hermitian semidefinite% M_a^VB\n",
    "    variable Mam(dV*dB,dV*dB,oa) hermitian semidefinite % N_a^VB\n",
    "    variable rhoBp(dB,dB) hermitian %semidefinite\n",
    "    variable rhoBm(dB,dB) hermitian %semidefinite\n",
    "    \n",
    "    expression betavar\n",
    "    \n",
    "    minimise trace(rhoBm) \n",
    "    \n",
    "    subject to\n",
    "    \n",
    "    \n",
    "    betavar = 0;\n",
    "    for x = 1:ma\n",
    "        for a = 1:oa\n",
    "            betavar = betavar + trace((Map(:,:,a)-Mam(:,:,a))*...\n",
    "                Tensor(omegax(:,:,x),Fax(:,:,a,x)));\n",
    "        end\n",
    "    end\n",
    "    \n",
    "    betavar == betaobs\n",
    "    \n",
    "    sum(Map,3) == Tensor(eye(dV),rhoBp)\n",
    "    sum(Mam,3) == Tensor(eye(dV),rhoBm)\n",
    "    % sum_a Ma+/- = Id otimes rhoB (no-signalling)\n",
    "    \n",
    "cvx_end\n",
    "\n",
    "TNW = cvx_optval;\n",
    "\n",
    "end\n"
   ]
  },
  {
   "cell_type": "markdown",
   "metadata": {},
   "source": [
    "### Ideal case"
   ]
  },
  {
   "cell_type": "code",
   "execution_count": 223,
   "metadata": {},
   "outputs": [
    {
     "data": {
      "image/png": "[encoded data removed]",
      "text/plain": [
       "<IPython.core.display.Image object>"
      ]
     },
     "metadata": {},
     "output_type": "display_data"
    }
   ],
   "source": [
    "clear\n",
    "\n",
    "% states to be teleported:\n",
    "\n",
    "ma = 6;\n",
    "omegax = zeros(2,2,ma);\n",
    "\n",
    "omegax(:,:,1) = 1/2*(eye(2) + Pauli(1));\n",
    "omegax(:,:,2) = 1/2*(eye(2) - Pauli(1));\n",
    "omegax(:,:,3) = 1/2*(eye(2) + Pauli(2));\n",
    "omegax(:,:,4) = 1/2*(eye(2) - Pauli(2));\n",
    "omegax(:,:,5) = 1/2*(eye(2) + Pauli(3));\n",
    "omegax(:,:,6) = 1/2*(eye(2) - Pauli(3));\n",
    "\n",
    "% shared state definitions:\n",
    "\n",
    "psim = [0 1 -1 0]'/sqrt(2);\n",
    "psip = [0 1 1 0]'/sqrt(2);\n",
    "psi11 = [0 0 0 1]';\n",
    "\n",
    "% joint measurements:\n",
    "\n",
    "Ma = zeros(4,4,2);\n",
    "Ma(:,:,1) = psim*psim';\n",
    "Ma(:,:,2) = eye(4) - Ma(:,:,1);\n",
    "\n",
    "[~,~,oa,~] = size(Ma);\n",
    "\n",
    "% Witness operators for average fidelity of teleportation.\n",
    "% We need beta < 0 when there is teleportation, i.e. 2/3 - f_tel\n",
    "\n",
    "Gax = zeros(2,2,oa,6);\n",
    "for x = 1:ma\n",
    "    Gax(:,:,1,x) = 1/ma*(8/3*eye(2) - 4*omegax(:,:,x));\n",
    "end\n",
    "\n",
    "% plot the graph:\n",
    "\n",
    "npoints = 21;\n",
    "gammav = linspace(0,1,npoints);\n",
    "TNWv = zeros(1,npoints);\n",
    "TNWAFv = zeros(1,npoints);\n",
    "TNv = zeros(1,npoints);\n",
    "Nv = zeros(1,npoints);\n",
    "\n",
    "for i = 1:npoints\n",
    "\n",
    "    gamma = gammav(i);\n",
    "    rho = gamma*psim*psim' + (1-gamma)*psi11*psi11';\n",
    "    Nv(i) = Negativity(rho);\n",
    "\n",
    "    sigma = genTeleportationData(rho,Ma,omegax);\n",
    "\n",
    "    theta = atan(gamma/(1-gamma)); % optival value of theta for maximum violation \n",
    "\n",
    "    Fax = zeros(2,2,oa,6);\n",
    "    Fax(:,:,1,1) = -2*sin(theta)*Pauli(1);\n",
    "    Fax(:,:,1,2) = +2*sin(theta)*Pauli(1);\n",
    "    Fax(:,:,1,3) = -2*sin(theta)*Pauli(2);\n",
    "    Fax(:,:,1,4) = +2*sin(theta)*Pauli(2);\n",
    "    Fax(:,:,1,5) = 2*(1-cos(theta))*(eye(2) - Pauli(3));\n",
    "    Fax(:,:,1,6) = 2*(1+cos(theta))*(eye(2) + Pauli(3));\n",
    "\n",
    "    betaobs = 0;\n",
    "    for x = 1:ma\n",
    "        for a = 1:oa\n",
    "            betaobs = betaobs + trace(Fax(:,:,a,x)*sigma(:,:,a,x));\n",
    "        end\n",
    "    end\n",
    "    \n",
    "    betaobsAF = 0;\n",
    "    for x = 1:ma\n",
    "        for a = 1:oa\n",
    "            betaobsAF = betaobsAF + trace(Gax(:,:,a,x)*sigma(:,:,a,x));\n",
    "        end\n",
    "    end\n",
    "    \n",
    "    TNWv(i) = teleportationNegativityWitness(Fax,betaobs,omegax);\n",
    "    TNWAFv(i) = teleportationNegativityWitness(Gax,betaobsAF,omegax);\n",
    "    TNv(i) = teleportationNegativity(sigma,omegax);\n",
    "    \n",
    "end\n",
    "\n",
    "plot(gammav,Nv,gammav,TNv,gammav,TNWv,gammav,TNWAFv)\n",
    "legend('negativity','full data','optimised witness','average fidelity','Location','northwest')"
   ]
  },
  {
   "cell_type": "markdown",
   "metadata": {},
   "source": [
    "There are a couple of things worth noting here:\n",
    "\n",
    "- Although for a full BSM we proved that the full data (given that we use tomographically complete inputs) will give a tight lower bound to the negativity, this is no longer the case for a partial BSM, as can be seen here for the red curve\n",
    "- There appears to be a linear lower bound provided by the average fidelity witness, ranging from 0 (at the point where the state doesn't violate the witness) to the actual negativity\n",
    "- The average fidelity appears to be the optimal witness for a large range of parameters, surprisingly\n",
    "- There is only a small region where the average fidelity is positive and doesn't provide a better lower bound on the negativity."
   ]
  },
  {
   "cell_type": "markdown",
   "metadata": {},
   "source": [
    "### Experimental case:"
   ]
  },
  {
   "cell_type": "code",
   "execution_count": 224,
   "metadata": {},
   "outputs": [
    {
     "data": {
      "image/png": "[encoded data removed]",
      "text/plain": [
       "<IPython.core.display.Image object>"
      ]
     },
     "metadata": {},
     "output_type": "display_data"
    }
   ],
   "source": [
    "clear\n",
    "\n",
    "% input states:\n",
    "\n",
    "ma = 6;\n",
    "omegax = zeros(2,2,ma);\n",
    "\n",
    "omegax(:,:,1) = 1/2*(eye(2) + Pauli(1));\n",
    "omegax(:,:,2) = 1/2*(eye(2) - Pauli(1));\n",
    "omegax(:,:,3) = 1/2*(eye(2) + Pauli(2));\n",
    "omegax(:,:,4) = 1/2*(eye(2) - Pauli(2));\n",
    "omegax(:,:,5) = 1/2*(eye(2) + Pauli(3));\n",
    "omegax(:,:,6) = 1/2*(eye(2) - Pauli(3));\n",
    "\n",
    "% experimental shared state\n",
    "\n",
    "rhoexp = @(v,gamma,delta) 1/4*[(1-v^2)*gamma,0,0,0;0,2-gamma+v^2*(-2+3*gamma),-2*(1-2*delta)^2*v^2*gamma,...\n",
    "            0;0,-2*(1-2*delta)^2*v^2*gamma,(1+v^2)*gamma,0;0,0,0,2+v^2*(2-3*gamma)-gamma];\n",
    "                                \n",
    "v = 0.962;\n",
    "delta = 0.872;\n",
    "\n",
    "% joint measurement\n",
    "\n",
    "psim = [0 1 -1 0]'/sqrt(2);\n",
    "\n",
    "Ma = zeros(4,4,2);\n",
    "Ma(:,:,1) = psim*psim';\n",
    "Ma(:,:,2) = eye(4) - Ma(:,:,1);\n",
    "[~,~,oa,~] = size(Ma);\n",
    "\n",
    "% witness operators for average fidelity\n",
    "\n",
    "Gax = zeros(2,2,oa,6);\n",
    "for x = 1:ma\n",
    "    Gax(:,:,1,x) = 1/ma*(8/3*eye(2) - 4*omegax(:,:,x));\n",
    "end\n",
    "\n",
    "% plot the graph\n",
    "\n",
    "npoints = 101;\n",
    "gammav = linspace(0,1,npoints);\n",
    "TNWv = zeros(1,npoints);\n",
    "TNWAFv = zeros(1,npoints);\n",
    "TNv = zeros(1,npoints);\n",
    "Nv = zeros(1,npoints);\n",
    "\n",
    "for i = 1:npoints\n",
    "\n",
    "    gamma = gammav(i);\n",
    "    rho = rhoexp(v,gamma,delta);\n",
    "    Nv(i) = Negativity(rho);\n",
    "\n",
    "    sigma = genTeleportationData(rho,Ma,omegax);\n",
    "\n",
    "    theta = atan(2*(1-2*delta)^2*v^2*gamma/(1+v^2)/(1-gamma));\n",
    "\n",
    "    Fax = zeros(2,2,oa,6);\n",
    "    Fax(:,:,1,1) = -2*sin(theta)*Pauli(1);\n",
    "    Fax(:,:,1,2) = +2*sin(theta)*Pauli(1);\n",
    "    Fax(:,:,1,3) = -2*sin(theta)*Pauli(2);\n",
    "    Fax(:,:,1,4) = +2*sin(theta)*Pauli(2);\n",
    "    Fax(:,:,1,5) = 2*(1-cos(theta))*(eye(2) - Pauli(3));\n",
    "    Fax(:,:,1,6) = 2*(1+cos(theta))*(eye(2) + Pauli(3));\n",
    "\n",
    "    betaobs = 0;\n",
    "    for x = 1:ma\n",
    "        for a = 1:oa\n",
    "            betaobs = betaobs + trace(Fax(:,:,a,x)*sigma(:,:,a,x));\n",
    "        end\n",
    "    end\n",
    "    \n",
    "    betaobsAF = 0;\n",
    "    for x = 1:ma\n",
    "        for a = 1:oa\n",
    "            betaobsAF = betaobsAF + trace(Gax(:,:,a,x)*sigma(:,:,a,x));\n",
    "        end\n",
    "    end\n",
    "    \n",
    "    TNWv(i) = teleportationNegativityWitness(Fax,betaobs,omegax);\n",
    "    TNWAFv(i) = teleportationNegativityWitness(Gax,betaobsAF,omegax);\n",
    "    TNv(i) = teleportationNegativity(sigma,omegax);\n",
    "    \n",
    "end\n",
    "\n",
    "plot(gammav,Nv,gammav,TNv,gammav,TNWv,gammav,TNWAFv)\n",
    "legend('negativity','full data','optimised witness','average fidelity','Location','northwest')"
   ]
  },
  {
   "cell_type": "markdown",
   "metadata": {},
   "source": [
    "There are a few interesting aspects here once again:\n",
    "- The average fidelity again appears to be linear, and tight for a range of $\\gamma$\n",
    "- There is again a small region where the witness outperforms average fidelity (when the fidelity is non-zero)"
   ]
  },
  {
   "cell_type": "markdown",
   "metadata": {},
   "source": [
    "### Check the behaviour of negativity bound as a function of $\\theta$ for fixed $\\gamma$"
   ]
  },
  {
   "cell_type": "code",
   "execution_count": 234,
   "metadata": {},
   "outputs": [
    {
     "data": {
      "image/png": "[encoded data removed]",
      "text/plain": [
       "<IPython.core.display.Image object>"
      ]
     },
     "metadata": {},
     "output_type": "display_data"
    }
   ],
   "source": [
    "clear\n",
    "\n",
    "% input states:\n",
    "\n",
    "ma = 6;\n",
    "omegax = zeros(2,2,ma);\n",
    "\n",
    "omegax(:,:,1) = 1/2*(eye(2) + Pauli(1));\n",
    "omegax(:,:,2) = 1/2*(eye(2) - Pauli(1));\n",
    "omegax(:,:,3) = 1/2*(eye(2) + Pauli(2));\n",
    "omegax(:,:,4) = 1/2*(eye(2) - Pauli(2));\n",
    "omegax(:,:,5) = 1/2*(eye(2) + Pauli(3));\n",
    "omegax(:,:,6) = 1/2*(eye(2) - Pauli(3));\n",
    "\n",
    "% experimental state\n",
    "\n",
    "rhoexp = @(v,gamma,delta) 1/4*[(1-v^2)*gamma,0,0,0;0,2-gamma+v^2*(-2+3*gamma),-2*(1-2*delta)^2*v^2*gamma,...\n",
    "            0;0,-2*(1-2*delta)^2*v^2*gamma,(1+v^2)*gamma,0;0,0,0,2+v^2*(2-3*gamma)-gamma];\n",
    "\n",
    "v = 0.962;\n",
    "delta = 0.872;\n",
    "gamma = 0.9; % picked arbitrarily\n",
    "\n",
    "rho = rhoexp(v,gamma,delta);\n",
    "\n",
    "% old optimal value of theta:\n",
    "\n",
    "thetaopt = atan(2*(1-2*delta)^2*v^2*gamma/(1+v^2)/(1-gamma));\n",
    "\n",
    "% joint measurement:\n",
    "\n",
    "psim = [0 1 -1 0]'/sqrt(2);\n",
    "Ma = zeros(4,4,2);\n",
    "Ma(:,:,1) = psim*psim';\n",
    "Ma(:,:,2) = eye(4) - Ma(:,:,1);\n",
    "[~,~,oa,~] = size(Ma);\n",
    "\n",
    "% teleportation assemblage:\n",
    "\n",
    "sigma = genTeleportationData(rho,Ma,omegax);\n",
    "\n",
    "% plot the graph:\n",
    "\n",
    "npoints = 101;\n",
    "thetav = linspace(0,2*pi,npoints);\n",
    "TNWv = zeros(1,npoints);\n",
    "\n",
    "for i = 1:npoints\n",
    "\n",
    "    theta = thetav(i);\n",
    "\n",
    "    Fax = zeros(2,2,oa,6);\n",
    "    Fax(:,:,1,1) = -2*sin(theta)*Pauli(1);\n",
    "    Fax(:,:,1,2) = +2*sin(theta)*Pauli(1);\n",
    "    Fax(:,:,1,3) = -2*sin(theta)*Pauli(2);\n",
    "    Fax(:,:,1,4) = +2*sin(theta)*Pauli(2);\n",
    "    Fax(:,:,1,5) = 2*(1-cos(theta))*(eye(2) - Pauli(3));\n",
    "    Fax(:,:,1,6) = 2*(1+cos(theta))*(eye(2) + Pauli(3));\n",
    "\n",
    "    betaobs = 0;\n",
    "    for x = 1:ma\n",
    "        for a = 1:oa\n",
    "            betaobs = betaobs + trace(Fax(:,:,a,x)*sigma(:,:,a,x));\n",
    "        end\n",
    "    end\n",
    "    \n",
    "    TNWv(i) = teleportationNegativityWitness(Fax,betaobs,omegax);\n",
    "    \n",
    "end\n",
    "\n",
    "\n",
    "\n",
    "plot(thetav,TNWv,[thetaopt,thetaopt],[0,max(TNWv)])"
   ]
  },
  {
   "cell_type": "markdown",
   "metadata": {},
   "source": [
    "This graph demonstrates that the optimal value of $\\theta$ in terms of largest violation is not the same as the optimal value of $\\theta$ for the best estimation of negativity. Thus, we need to obtain the graph of estimated negativity versus $\\theta$, for the optimal $\\theta$ for this."
   ]
  },
  {
   "cell_type": "markdown",
   "metadata": {},
   "source": [
    "### Negativity estimation using the optimal value of $\\theta$"
   ]
  },
  {
   "cell_type": "code",
   "execution_count": null,
   "metadata": {},
   "outputs": [],
   "source": [
    "clear\n",
    "\n",
    "% input states\n",
    "\n",
    "ma = 6;\n",
    "omegax = zeros(2,2,ma);\n",
    "\n",
    "omegax(:,:,1) = 1/2*(eye(2) + Pauli(1));\n",
    "omegax(:,:,2) = 1/2*(eye(2) - Pauli(1));\n",
    "omegax(:,:,3) = 1/2*(eye(2) + Pauli(2));\n",
    "omegax(:,:,4) = 1/2*(eye(2) - Pauli(2));\n",
    "omegax(:,:,5) = 1/2*(eye(2) + Pauli(3));\n",
    "omegax(:,:,6) = 1/2*(eye(2) - Pauli(3));\n",
    "\n",
    "% experimental state\n",
    "\n",
    "rhoexp = @(v,gamma,delta) 1/4*[(1-v^2)*gamma,0,0,0;0,2-gamma+v^2*(-2+3*gamma),-2*(1-2*delta)^2*v^2*gamma,...\n",
    "            0;0,-2*(1-2*delta)^2*v^2*gamma,(1+v^2)*gamma,0;0,0,0,2+v^2*(2-3*gamma)-gamma];\n",
    "\n",
    "v = 0.962;\n",
    "delta = 0.872;\n",
    "\n",
    "% joint measurement\n",
    "\n",
    "psim = [0 1 -1 0]'/sqrt(2);\n",
    "Ma = zeros(4,4,2);\n",
    "Ma(:,:,1) = psim*psim';\n",
    "Ma(:,:,2) = eye(4) - Ma(:,:,1);\n",
    "[~,~,oa,~] = size(Ma);\n",
    "\n",
    "% average fidelity witness\n",
    "\n",
    "Gax = zeros(2,2,oa,6);\n",
    "for x = 1:ma\n",
    "    Gax(:,:,1,x) = 1/ma*(8/3*eye(2) - 4*omegax(:,:,x));\n",
    "end\n",
    "\n",
    "% obtain the data:\n",
    "\n",
    "ngam = 101;\n",
    "npoints = 101;\n",
    "\n",
    "gammav = linspace(0,1,ngam);\n",
    "thetav = linspace(0,2*pi,npoints);\n",
    "TNWv = zeros(ngam,npoints);\n",
    "TNWOv = zeros(1,ngam);\n",
    "TNWAFv  = zeros(1,ngam);\n",
    "\n",
    "for i = 1:ngam\n",
    "\n",
    "    gamma = gammav(i);\n",
    "    rho = rhoexp(v,gamma,delta);\n",
    "    sigma = genTeleportationData(rho,Ma,omegax);\n",
    "\n",
    "    for j = 1:npoints\n",
    "\n",
    "        theta = thetav(j);\n",
    "\n",
    "        Fax = zeros(2,2,oa,6);\n",
    "        Fax(:,:,1,1) = -2*sin(theta)*Pauli(1);\n",
    "        Fax(:,:,1,2) = +2*sin(theta)*Pauli(1);\n",
    "        Fax(:,:,1,3) = -2*sin(theta)*Pauli(2);\n",
    "        Fax(:,:,1,4) = +2*sin(theta)*Pauli(2);\n",
    "        Fax(:,:,1,5) = 2*(1-cos(theta))*(eye(2) - Pauli(3));\n",
    "        Fax(:,:,1,6) = 2*(1+cos(theta))*(eye(2) + Pauli(3));\n",
    "\n",
    "        betaobs = 0;\n",
    "        for x = 1:ma\n",
    "            for a = 1:oa\n",
    "                betaobs = betaobs + trace(Fax(:,:,a,x)*sigma(:,:,a,x));\n",
    "            end\n",
    "        end\n",
    "    \n",
    "        TNWv(i,j) = teleportationNegativityWitness(Fax,betaobs,omegax);\n",
    "    \n",
    "    end\n",
    "    \n",
    "    TNWOv(i) = max(TNWv(i,:)); % best value (given the values of theta sampled)\n",
    "    \n",
    "    betaobsAF = 0;\n",
    "    for x = 1:ma\n",
    "        for a = 1:oa\n",
    "            betaobsAF = betaobsAF + trace(Gax(:,:,a,x)*sigma(:,:,a,x));\n",
    "        end\n",
    "    end\n",
    "    \n",
    "    TNWAFv(i) = teleportationNegativityWitness(Gax,betaobsAF,omegax);\n",
    "    \n",
    "end"
   ]
  },
  {
   "cell_type": "code",
   "execution_count": 263,
   "metadata": {},
   "outputs": [],
   "source": [
    "Nv = zeros(1,npoints);\n",
    "TNv = zeros(1,npoints);\n",
    "\n",
    "for i = 1:npoints\n",
    "\n",
    "    gamma = gammav(i);\n",
    "    rho = rhoexp(v,gamma,delta);\n",
    "    sigma = genTeleportationData(rho,Ma,omegax);\n",
    "    \n",
    "    Nv(i) = Negativity(rho);\n",
    "    TNv(i) = teleportationNegativity(sigma,omegax);\n",
    "    \n",
    "end"
   ]
  },
  {
   "cell_type": "code",
   "execution_count": 266,
   "metadata": {},
   "outputs": [
    {
     "data": {
      "image/png": "[encoded data removed]",
      "text/plain": [
       "<IPython.core.display.Image object>"
      ]
     },
     "metadata": {},
     "output_type": "display_data"
    }
   ],
   "source": [
    "plot(gammav,Nv,gammav,TNv,gammav,TNWOv,'--',gammav,TNWAFv)\n",
    "xlabel('$\\gamma$','Interpreter','latex')\n",
    "ylabel('Bound on negativity')\n",
    "legend('Negativity','full data','Optimised witness','Average fidelity','Location','northwest')"
   ]
  },
  {
   "cell_type": "code",
   "execution_count": 251,
   "metadata": {},
   "outputs": [
    {
     "data": {
      "image/png": "[encoded data removed]",
      "text/plain": [
       "<IPython.core.display.Image object>"
      ]
     },
     "metadata": {},
     "output_type": "display_data"
    }
   ],
   "source": [
    "thetaoptv = zeros(1,npoints);\n",
    "\n",
    "for i = 1:npoints\n",
    "    [~,iopt] = max(TNWv(i,:));\n",
    "    thetaoptv(i) = thetav(iopt);\n",
    "end\n",
    "\n",
    "plot(gammav,thetaoptv)\n",
    "xlabel('$\\gamma$','Interpreter','latex')\n",
    "ylabel('$\\theta_{opt}$','Interpreter','latex')\n",
    "title('Optimal \\theta as a function of \\gamma')"
   ]
  },
  {
   "cell_type": "markdown",
   "metadata": {},
   "source": [
    "- The regime $0 \\leq \\gamma \\leq \\approx 0.2$ is dominated by noise, since in this regime the violation is very small, and hence there must be numerical instability.\n",
    "- Above this region, the optimal value of $\\theta$ is seen to increase smoothly until around $\\gamma \\approx 0.8$.\n",
    "- At $\\gamma \\approx 0.8$, the average fidelity becomes equally good to the optimised witness, and the optimal value of $\\theta$ becomes constant in this regime too"
   ]
  },
  {
   "cell_type": "markdown",
   "metadata": {},
   "source": [
    "### Check against Vidal bound:"
   ]
  },
  {
   "cell_type": "code",
   "execution_count": 260,
   "metadata": {},
   "outputs": [
    {
     "data": {
      "image/png": "[encoded data removed]",
      "text/plain": [
       "<IPython.core.display.Image object>"
      ]
     },
     "metadata": {},
     "output_type": "display_data"
    }
   ],
   "source": [
    "Nfv = zeros(1,npoints);\n",
    "\n",
    "fax = zeros(2,2,oa,6);\n",
    "for x = 1:ma\n",
    "    fax(:,:,1,x) = 4/ma*omegax(:,:,x);\n",
    "end\n",
    "\n",
    "for i = 1:ngam\n",
    "\n",
    "    gamma = gammav(i);\n",
    "    rho = rhoexp(v,gamma,delta);\n",
    "    sigma = genTeleportationData(rho,Ma,omegax);\n",
    "\n",
    "    f = 0;\n",
    "    for x = 1:ma\n",
    "        for a = 1:oa\n",
    "            f = f + trace(fax(:,:,a,x)*sigma(:,:,a,x));\n",
    "        end\n",
    "    end\n",
    "    \n",
    "    Nfv(i) = max(3/2*f - 1,0);\n",
    "    \n",
    "end\n",
    "\n",
    "plot(gammav,Nfv,gammav,TNWAFv,'--')\n",
    "xlabel('$\\gamma$','Interpreter','latex')\n",
    "ylabel('Bound on negativity')\n",
    "legend('Vidal','SDP','Location','northwest')"
   ]
  },
  {
   "cell_type": "markdown",
   "metadata": {},
   "source": [
    "As can be seen, the SDP reproduces the expression found by Vidal"
   ]
  },
  {
   "cell_type": "code",
   "execution_count": null,
   "metadata": {},
   "outputs": [],
   "source": []
  }
 ],
 "metadata": {
  "kernelspec": {
   "display_name": "Matlab",
   "language": "matlab",
   "name": "matlab"
  },
  "language_info": {
   "codemirror_mode": "octave",
   "file_extension": ".m",
   "help_links": [
    {
     "text": "MetaKernel Magics",
     "url": "https://github.com/calysto/metakernel/blob/master/metakernel/magics/README.md"
    }
   ],
   "mimetype": "text/x-octave",
   "name": "matlab",
   "version": "0.15.0"
  }
 },
 "nbformat": 4,
 "nbformat_minor": 2
}
