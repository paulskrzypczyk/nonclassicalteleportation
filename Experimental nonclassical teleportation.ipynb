{
 "cells": [
  {
   "cell_type": "markdown",
   "metadata": {},
   "source": [
    "# Experimental study of nonclassical teleportation beyond average fidelity"
   ]
  },
  {
   "cell_type": "markdown",
   "metadata": {},
   "source": [
    "## Ideal case analysis:\n",
    "\n",
    "In this section we are going to check the calculations already presented in the paper for correctness"
   ]
  },
  {
   "cell_type": "markdown",
   "metadata": {},
   "source": [
    "Input states:"
   ]
  },
  {
   "cell_type": "code",
   "execution_count": 6,
   "metadata": {},
   "outputs": [],
   "source": [
    "psix = zeros(2,2,6);\n",
    "\n",
    "psix(:,:,1) = 1/2*(eye(2) + Pauli(1));\n",
    "psix(:,:,2) = 1/2*(eye(2) - Pauli(1));\n",
    "psix(:,:,3) = 1/2*(eye(2) + Pauli(2));\n",
    "psix(:,:,4) = 1/2*(eye(2) - Pauli(2));\n",
    "psix(:,:,5) = 1/2*(eye(2) + Pauli(3));\n",
    "psix(:,:,6) = 1/2*(eye(2) - Pauli(3));"
   ]
  },
  {
   "cell_type": "markdown",
   "metadata": {},
   "source": [
    "Shared state:"
   ]
  },
  {
   "cell_type": "code",
   "execution_count": 7,
   "metadata": {},
   "outputs": [],
   "source": [
    "psim = [0 1 -1 0]'/sqrt(2);\n",
    "psip = [0 1 1 0]'/sqrt(2);\n",
    "\n",
    "psi11 = [0 0 0 1]';"
   ]
  },
  {
   "cell_type": "markdown",
   "metadata": {},
   "source": [
    "Measurement:"
   ]
  },
  {
   "cell_type": "code",
   "execution_count": 8,
   "metadata": {},
   "outputs": [],
   "source": [
    "Ma = zeros(4,4,2);\n",
    "Ma(:,:,1) = psim*psim';\n",
    "Ma(:,:,2) = eye(4) - Ma(:,:,1);"
   ]
  },
  {
   "cell_type": "markdown",
   "metadata": {},
   "source": [
    "Check:"
   ]
  },
  {
   "cell_type": "code",
   "execution_count": 9,
   "metadata": {},
   "outputs": [],
   "source": [
    "nsteps = 51;\n",
    "\n",
    "gammav = linspace(0,1,nsteps);\n",
    "betav = zeros(1,nsteps);\n",
    "thetav = zeros(1,nsteps);\n",
    "\n",
    "for i = 1:nsteps\n",
    "\n",
    "    % state\n",
    "    \n",
    "    gamma = gammav(i);\n",
    "    rho = gamma*psim*psim' + (1-gamma)*psi11*psi11';\n",
    "    \n",
    "    % teleportation data\n",
    "    \n",
    "    sigma = genTeleportationData(rho,Ma,psix);\n",
    "    sigx = squeeze(sigma(:,:,1,:));\n",
    "    \n",
    "    % optimal witness\n",
    "    \n",
    "    theta = atan(gamma/(1-gamma));\n",
    "    thetav(i) = theta;\n",
    "\n",
    "    Fax = zeros(2,2,6);\n",
    "    Fax(:,:,1) = -2*sin(theta)*Pauli(1);\n",
    "    Fax(:,:,2) = +2*sin(theta)*Pauli(1);\n",
    "    Fax(:,:,3) = -2*sin(theta)*Pauli(2);\n",
    "    Fax(:,:,4) = +2*sin(theta)*Pauli(2);\n",
    "    Fax(:,:,5) = 2*(1-cos(theta))*(eye(2) - Pauli(3));\n",
    "    Fax(:,:,6) = 2*(1+cos(theta))*(eye(2) + Pauli(3));\n",
    "    \n",
    "    % witness violation\n",
    "    \n",
    "    beta = 0;\n",
    "    for x = 1:6\n",
    "        beta = beta + trace(Fax(:,:,x)*sigx(:,:,x));\n",
    "    end\n",
    "\n",
    "    betav(i) = beta;\n",
    "    \n",
    "end"
   ]
  },
  {
   "cell_type": "markdown",
   "metadata": {},
   "source": [
    "Check this value:  \n",
    "It should be $-2\\gamma\\sin \\theta + 2(1-\\gamma)(1-\\cos\\theta)$"
   ]
  },
  {
   "cell_type": "code",
   "execution_count": 10,
   "metadata": {},
   "outputs": [
    {
     "name": "stdout",
     "output_type": "stream",
     "text": [
      "ans =\n",
      "  Columns 1 through 7\n",
      "         0   -0.0004   -0.0017   -0.0038   -0.0069   -0.0111   -0.0163\n",
      "         0   -0.0004   -0.0017   -0.0038   -0.0069   -0.0111   -0.0163\n",
      "  Columns 8 through 14\n",
      "   -0.0226   -0.0302   -0.0390   -0.0492   -0.0609   -0.0740   -0.0887\n",
      "   -0.0226   -0.0302   -0.0390   -0.0492   -0.0609   -0.0740   -0.0887\n",
      "  Columns 15 through 21\n",
      "   -0.1051   -0.1232   -0.1431   -0.1649   -0.1886   -0.2144   -0.2422\n",
      "   -0.1051   -0.1232   -0.1431   -0.1649   -0.1886   -0.2144   -0.2422\n",
      "  Columns 22 through 28\n",
      "   -0.2722   -0.3044   -0.3387   -0.3753   -0.4142   -0.4553   -0.4987\n",
      "   -0.2722   -0.3044   -0.3387   -0.3753   -0.4142   -0.4553   -0.4987\n",
      "  Columns 29 through 35\n",
      "   -0.5444   -0.5922   -0.6422   -0.6944   -0.7486   -0.8049   -0.8631\n",
      "   -0.5444   -0.5922   -0.6422   -0.6944   -0.7486   -0.8049   -0.8631\n",
      "  Columns 36 through 42\n",
      "   -0.9232   -0.9851   -1.0487   -1.1140   -1.1809   -1.2492   -1.3190\n",
      "   -0.9232   -0.9851   -1.0487   -1.1140   -1.1809   -1.2492   -1.3190\n",
      "  Columns 43 through 49\n",
      "   -1.3902   -1.4626   -1.5363   -1.6111   -1.6869   -1.7638   -1.8417\n",
      "   -1.3902   -1.4626   -1.5363   -1.6111   -1.6869   -1.7638   -1.8417\n",
      "  Columns 50 through 51\n",
      "   -1.9204   -2.0000\n",
      "   -1.9204   -2.0000\n"
     ]
    }
   ],
   "source": [
    "[betav;\n",
    "-2*gammav.*sin(thetav) + 2*(1-gammav).*(1-cos(thetav))]"
   ]
  },
  {
   "cell_type": "markdown",
   "metadata": {},
   "source": [
    "$M^{VB}_0$ calculation:"
   ]
  },
  {
   "cell_type": "markdown",
   "metadata": {},
   "source": [
    "This shows that the calculations agree with the theoreitcal analysis"
   ]
  },
  {
   "cell_type": "markdown",
   "metadata": {},
   "source": [
    "## Experimental case analysis:"
   ]
  },
  {
   "cell_type": "markdown",
   "metadata": {},
   "source": [
    "Shared state:\n",
    "\n",
    "NOTE: Here we are correcting the typo $\\nu \\to \\nu^2$ from the paper"
   ]
  },
  {
   "cell_type": "code",
   "execution_count": 11,
   "metadata": {},
   "outputs": [],
   "source": [
    "rhoexp = @(v,gamma,delta) 1/4*[(1-v^2)*gamma,0,0,0;0,2-gamma+v^2*(-2+3*gamma),-2*(1-2*delta)^2*v^2*gamma,...\n",
    "                                0;0,-2*(1-2*delta)^2*v^2*gamma,(1+v^2)*gamma,0;0,0,0,2+v^2*(2-3*gamma)-gamma];"
   ]
  },
  {
   "cell_type": "markdown",
   "metadata": {},
   "source": [
    "Experimentally obtained values for $\\nu$ and $\\delta$:"
   ]
  },
  {
   "cell_type": "code",
   "execution_count": 12,
   "metadata": {},
   "outputs": [],
   "source": [
    "v = 0.962;\n",
    "delta = 0.872;"
   ]
  },
  {
   "cell_type": "code",
   "execution_count": 20,
   "metadata": {},
   "outputs": [],
   "source": [
    "nsteps = 51;\n",
    "\n",
    "gammav = linspace(0,1,nsteps);\n",
    "betaexpv = zeros(1,nsteps);\n",
    "thetaexpv = zeros(1,nsteps);\n",
    "\n",
    "for i = 1:nsteps\n",
    "\n",
    "    % state\n",
    "    \n",
    "    gamma = gammav(i);\n",
    "    \n",
    "    % teleportation data\n",
    "    \n",
    "    sigmaexp = genTeleportationData(rhoexp(v,gamma,delta),Ma,psix);\n",
    "    sigxexp = squeeze(sigmaexp(:,:,1,:));\n",
    "    \n",
    "    % optimal witness\n",
    "    \n",
    "    theta = atan(2*(1-2*delta)^2*v^2*gamma/(1+v^2)/(1-gamma));\n",
    "    thetaexpv(i) = theta;\n",
    "\n",
    "    Fax = zeros(2,2,6);\n",
    "    Fax(:,:,1) = -2*sin(theta)*Pauli(1);\n",
    "    Fax(:,:,2) = +2*sin(theta)*Pauli(1);\n",
    "    Fax(:,:,3) = -2*sin(theta)*Pauli(2);\n",
    "    Fax(:,:,4) = +2*sin(theta)*Pauli(2);\n",
    "    Fax(:,:,5) = 2*(1-cos(theta))*(eye(2) - Pauli(3));\n",
    "    Fax(:,:,6) = 2*(1+cos(theta))*(eye(2) + Pauli(3));\n",
    "    \n",
    "    % witness violation\n",
    "    \n",
    "    beta = 0;\n",
    "    for x = 1:6\n",
    "        beta = beta + trace(Fax(:,:,x)*sigxexp(:,:,x));\n",
    "    end\n",
    "\n",
    "    betaexpv(i) = beta;\n",
    "    \n",
    "end"
   ]
  },
  {
   "cell_type": "markdown",
   "metadata": {},
   "source": [
    "Check that this is equal to $1+v^2-2\\gamma v^2-(1-\\gamma)(1+v^2)\\cos(\\theta) - 2\\gamma(1-2\\delta)^2v^2\\sin(\\theta)$"
   ]
  },
  {
   "cell_type": "code",
   "execution_count": 21,
   "metadata": {},
   "outputs": [
    {
     "name": "stdout",
     "output_type": "stream",
     "text": [
      "ans =\n",
      "  Columns 1 through 7\n",
      "         0    0.0014    0.0025    0.0034    0.0041    0.0044    0.0045\n",
      "         0    0.0014    0.0025    0.0034    0.0041    0.0044    0.0045\n",
      "  Columns 8 through 14\n",
      "    0.0042    0.0036    0.0027    0.0013   -0.0004   -0.0026   -0.0053\n",
      "    0.0042    0.0036    0.0027    0.0013   -0.0004   -0.0026   -0.0053\n",
      "  Columns 15 through 21\n",
      "   -0.0085   -0.0122   -0.0166   -0.0215   -0.0272   -0.0335   -0.0407\n",
      "   -0.0085   -0.0122   -0.0166   -0.0215   -0.0272   -0.0335   -0.0407\n",
      "  Columns 22 through 28\n",
      "   -0.0487   -0.0576   -0.0675   -0.0785   -0.0905   -0.1038   -0.1183\n",
      "   -0.0487   -0.0576   -0.0675   -0.0785   -0.0905   -0.1038   -0.1183\n",
      "  Columns 29 through 35\n",
      "   -0.1342   -0.1516   -0.1705   -0.1910   -0.2133   -0.2373   -0.2632\n",
      "   -0.1342   -0.1516   -0.1705   -0.1910   -0.2133   -0.2373   -0.2632\n",
      "  Columns 36 through 42\n",
      "   -0.2910   -0.3209   -0.3527   -0.3867   -0.4227   -0.4608   -0.5011\n",
      "   -0.2910   -0.3209   -0.3527   -0.3867   -0.4227   -0.4608   -0.5011\n",
      "  Columns 43 through 49\n",
      "   -0.5434   -0.5877   -0.6341   -0.6823   -0.7324   -0.7844   -0.8380\n",
      "   -0.5434   -0.5877   -0.6341   -0.6823   -0.7324   -0.7844   -0.8380\n",
      "  Columns 50 through 51\n",
      "   -0.8932   -0.9500\n",
      "   -0.8932   -0.9500\n"
     ]
    }
   ],
   "source": [
    "[betaexpv; ...\n",
    "1+v^2-2*gammav.*v^2-(1-gammav).*(1+v^2).*cos(thetaexpv) - 2*gammav.*(1-2*delta)^2*v^2.*sin(thetaexpv)]"
   ]
  },
  {
   "cell_type": "markdown",
   "metadata": {},
   "source": [
    "Once again, this confirms that everything appears correct"
   ]
  },
  {
   "cell_type": "code",
   "execution_count": null,
   "metadata": {},
   "outputs": [],
   "source": []
  }
 ],
 "metadata": {
  "kernelspec": {
   "display_name": "Matlab",
   "language": "matlab",
   "name": "matlab"
  },
  "language_info": {
   "codemirror_mode": "octave",
   "file_extension": ".m",
   "help_links": [
    {
     "text": "MetaKernel Magics",
     "url": "https://github.com/calysto/metakernel/blob/master/metakernel/magics/README.md"
    }
   ],
   "mimetype": "text/x-octave",
   "name": "matlab",
   "version": "0.15.0"
  }
 },
 "nbformat": 4,
 "nbformat_minor": 2
}
